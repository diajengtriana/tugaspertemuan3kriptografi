{
  "nbformat": 4,
  "nbformat_minor": 0,
  "metadata": {
    "colab": {
      "provenance": [],
      "gpuType": "T4",
      "authorship_tag": "ABX9TyNlTk649u7Yyg78nVoVwTIR",
      "include_colab_link": true
    },
    "kernelspec": {
      "name": "python3",
      "display_name": "Python 3"
    },
    "language_info": {
      "name": "python"
    }
  },
  "cells": [
    {
      "cell_type": "markdown",
      "metadata": {
        "id": "view-in-github",
        "colab_type": "text"
      },
      "source": [
        "<a href=\"https://colab.research.google.com/github/diajengtriana/utskriptografi/blob/main/uts_kriptografi.ipynb\" target=\"_parent\"><img src=\"https://colab.research.google.com/assets/colab-badge.svg\" alt=\"Open In Colab\"/></a>"
      ]
    },
    {
      "cell_type": "code",
      "execution_count": 1,
      "metadata": {
        "colab": {
          "base_uri": "https://localhost:8080/"
        },
        "id": "jZJ29VoVgjuC",
        "outputId": "d9b8ec5a-cdea-4075-858e-db2f66d7a1c3"
      },
      "outputs": [
        {
          "output_type": "stream",
          "name": "stdout",
          "text": [
            "Plaintext: pelita bangsa\n",
            "Encrypted text: fclwzi nivmui\n"
          ]
        }
      ],
      "source": [
        "def mod_inverse(a, m):\n",
        "    # Fungsi untuk mencari invers modulo dari a mod m\n",
        "    for i in range(1, m):\n",
        "        if (a * i) % m == 1:\n",
        "            return i\n",
        "    return None\n",
        "\n",
        "def affine_encrypt(text, a, b):\n",
        "    # Fungsi untuk mengenkripsi teks menggunakan affine cipher\n",
        "    result = \"\"\n",
        "    m = 26  # Panjang alfabet (jika hanya huruf kecil)\n",
        "\n",
        "    for char in text:\n",
        "        if char.isalpha():\n",
        "            # Hanya enkripsi huruf, abaikan karakter lainnya\n",
        "            if char.isupper():\n",
        "                result += chr((a * (ord(char) - 65) + b) % m + 65)\n",
        "            elif char.islower():\n",
        "                result += chr((a * (ord(char) - 97) + b) % m + 97)\n",
        "        else:\n",
        "            result += char\n",
        "\n",
        "    return result\n",
        "\n",
        "def main():\n",
        "    # Contoh penggunaan\n",
        "    plaintext = \"pelita bangsa\"\n",
        "    a = 5\n",
        "    b = 8\n",
        "\n",
        "    encrypted_text = affine_encrypt(plaintext, a, b)\n",
        "    print(\"Plaintext:\", plaintext)\n",
        "    print(\"Encrypted text:\", encrypted_text)\n",
        "\n",
        "if __name__ == \"__main__\":\n",
        "    main()\n"
      ]
    },
    {
      "cell_type": "code",
      "source": [
        "import numpy as np\n",
        "\n",
        "def egcd(a, b):\n",
        "    if a == 0:\n",
        "        return (b, 0, 1)\n",
        "    else:\n",
        "        g, y, x = egcd(b % a, a)\n",
        "        return (g, x - (b // a) * y, y)\n",
        "\n",
        "def mod_inverse(a, m):\n",
        "    g, x, y = egcd(a, m)\n",
        "    if g != 1:\n",
        "        raise Exception('Modular inverse does not exist')\n",
        "    else:\n",
        "        return x % m\n",
        "\n",
        "def hill_cipher(text, key):\n",
        "    key = np.array(key)\n",
        "    if key.shape[0] != key.shape[1]:\n",
        "        raise Exception('Key matrix must be square')\n",
        "\n",
        "    n = key.shape[0]\n",
        "    text = text.replace(\" \", \"\").upper()\n",
        "\n",
        "    while len(text) % n != 0:\n",
        "        text += 'X'\n",
        "\n",
        "    ciphertext = ''\n",
        "    for i in range(0, len(text), n):\n",
        "        block = text[i:i+n]\n",
        "        block_indices = [ord(char) - ord('A') for char in block]\n",
        "        block_vector = np.array(block_indices)\n",
        "        result_vector = np.dot(key, block_vector) % 26\n",
        "        result_block = ''.join([chr(result + ord('A')) for result in result_vector])\n",
        "        ciphertext += result_block\n",
        "\n",
        "    return ciphertext\n",
        "\n",
        "def decrypt_hill_cipher(ciphertext, key):\n",
        "    key = np.array(key)\n",
        "    if key.shape[0] != key.shape[1]:\n",
        "        raise Exception('Key matrix must be square')\n",
        "\n",
        "    key_inverse = np.array([[mod_inverse(key[i][j], 26) for j in range(key.shape[1])] for i in range(key.shape[0])])\n",
        "\n",
        "    n = key.shape[0]\n",
        "    text = ''\n",
        "    for i in range(0, len(ciphertext), n):\n",
        "        block = ciphertext[i:i+n]\n",
        "        block_indices = [ord(char) - ord('A') for char in block]\n",
        "        block_vector = np.array(block_indices)\n",
        "        result_vector = np.dot(key_inverse, block_vector) % 26\n",
        "        result_block = ''.join([chr(result + ord('A')) for result in result_vector])\n",
        "        text += result_block\n",
        "\n",
        "    return text\n",
        "\n",
        "# Contoh penggunaan\n",
        "key = [[6, 24, 1], [13, 16, 10], [20, 17, 15]]\n",
        "plaintext = \"HELLOHILL\"\n",
        "encrypted_text = hill_cipher(plaintext, key)\n",
        "print(\"Teks Terenkripsi:\", encrypted_text)\n",
        "\n",
        "decrypted_text = decrypt_hill_cipher(encrypted_text, key)\n",
        "print(\"Teks Terdekripsi:\", decrypted_text)"
      ],
      "metadata": {
        "colab": {
          "base_uri": "https://localhost:8080/",
          "height": 390
        },
        "id": "qpEwEt4ZnLUO",
        "outputId": "34c3651d-c7b1-4a00-cc78-515f6ef7b8e3"
      },
      "execution_count": 4,
      "outputs": [
        {
          "output_type": "stream",
          "name": "stdout",
          "text": [
            "Teks Terenkripsi: TFJTVRLAS\n"
          ]
        },
        {
          "output_type": "error",
          "ename": "Exception",
          "evalue": "ignored",
          "traceback": [
            "\u001b[0;31m---------------------------------------------------------------------------\u001b[0m",
            "\u001b[0;31mException\u001b[0m                                 Traceback (most recent call last)",
            "\u001b[0;32m<ipython-input-4-3d361ccf9a3e>\u001b[0m in \u001b[0;36m<cell line: 64>\u001b[0;34m()\u001b[0m\n\u001b[1;32m     62\u001b[0m \u001b[0mprint\u001b[0m\u001b[0;34m(\u001b[0m\u001b[0;34m\"Teks Terenkripsi:\"\u001b[0m\u001b[0;34m,\u001b[0m \u001b[0mencrypted_text\u001b[0m\u001b[0;34m)\u001b[0m\u001b[0;34m\u001b[0m\u001b[0;34m\u001b[0m\u001b[0m\n\u001b[1;32m     63\u001b[0m \u001b[0;34m\u001b[0m\u001b[0m\n\u001b[0;32m---> 64\u001b[0;31m \u001b[0mdecrypted_text\u001b[0m \u001b[0;34m=\u001b[0m \u001b[0mdecrypt_hill_cipher\u001b[0m\u001b[0;34m(\u001b[0m\u001b[0mencrypted_text\u001b[0m\u001b[0;34m,\u001b[0m \u001b[0mkey\u001b[0m\u001b[0;34m)\u001b[0m\u001b[0;34m\u001b[0m\u001b[0;34m\u001b[0m\u001b[0m\n\u001b[0m\u001b[1;32m     65\u001b[0m \u001b[0mprint\u001b[0m\u001b[0;34m(\u001b[0m\u001b[0;34m\"Teks Terdekripsi:\"\u001b[0m\u001b[0;34m,\u001b[0m \u001b[0mdecrypted_text\u001b[0m\u001b[0;34m)\u001b[0m\u001b[0;34m\u001b[0m\u001b[0;34m\u001b[0m\u001b[0m\n",
            "\u001b[0;32m<ipython-input-4-3d361ccf9a3e>\u001b[0m in \u001b[0;36mdecrypt_hill_cipher\u001b[0;34m(ciphertext, key)\u001b[0m\n\u001b[1;32m     42\u001b[0m         \u001b[0;32mraise\u001b[0m \u001b[0mException\u001b[0m\u001b[0;34m(\u001b[0m\u001b[0;34m'Key matrix must be square'\u001b[0m\u001b[0;34m)\u001b[0m\u001b[0;34m\u001b[0m\u001b[0;34m\u001b[0m\u001b[0m\n\u001b[1;32m     43\u001b[0m \u001b[0;34m\u001b[0m\u001b[0m\n\u001b[0;32m---> 44\u001b[0;31m     \u001b[0mkey_inverse\u001b[0m \u001b[0;34m=\u001b[0m \u001b[0mnp\u001b[0m\u001b[0;34m.\u001b[0m\u001b[0marray\u001b[0m\u001b[0;34m(\u001b[0m\u001b[0;34m[\u001b[0m\u001b[0;34m[\u001b[0m\u001b[0mmod_inverse\u001b[0m\u001b[0;34m(\u001b[0m\u001b[0mkey\u001b[0m\u001b[0;34m[\u001b[0m\u001b[0mi\u001b[0m\u001b[0;34m]\u001b[0m\u001b[0;34m[\u001b[0m\u001b[0mj\u001b[0m\u001b[0;34m]\u001b[0m\u001b[0;34m,\u001b[0m \u001b[0;36m26\u001b[0m\u001b[0;34m)\u001b[0m \u001b[0;32mfor\u001b[0m \u001b[0mj\u001b[0m \u001b[0;32min\u001b[0m \u001b[0mrange\u001b[0m\u001b[0;34m(\u001b[0m\u001b[0mkey\u001b[0m\u001b[0;34m.\u001b[0m\u001b[0mshape\u001b[0m\u001b[0;34m[\u001b[0m\u001b[0;36m1\u001b[0m\u001b[0;34m]\u001b[0m\u001b[0;34m)\u001b[0m\u001b[0;34m]\u001b[0m \u001b[0;32mfor\u001b[0m \u001b[0mi\u001b[0m \u001b[0;32min\u001b[0m \u001b[0mrange\u001b[0m\u001b[0;34m(\u001b[0m\u001b[0mkey\u001b[0m\u001b[0;34m.\u001b[0m\u001b[0mshape\u001b[0m\u001b[0;34m[\u001b[0m\u001b[0;36m0\u001b[0m\u001b[0;34m]\u001b[0m\u001b[0;34m)\u001b[0m\u001b[0;34m]\u001b[0m\u001b[0;34m)\u001b[0m\u001b[0;34m\u001b[0m\u001b[0;34m\u001b[0m\u001b[0m\n\u001b[0m\u001b[1;32m     45\u001b[0m \u001b[0;34m\u001b[0m\u001b[0m\n\u001b[1;32m     46\u001b[0m     \u001b[0mn\u001b[0m \u001b[0;34m=\u001b[0m \u001b[0mkey\u001b[0m\u001b[0;34m.\u001b[0m\u001b[0mshape\u001b[0m\u001b[0;34m[\u001b[0m\u001b[0;36m0\u001b[0m\u001b[0;34m]\u001b[0m\u001b[0;34m\u001b[0m\u001b[0;34m\u001b[0m\u001b[0m\n",
            "\u001b[0;32m<ipython-input-4-3d361ccf9a3e>\u001b[0m in \u001b[0;36m<listcomp>\u001b[0;34m(.0)\u001b[0m\n\u001b[1;32m     42\u001b[0m         \u001b[0;32mraise\u001b[0m \u001b[0mException\u001b[0m\u001b[0;34m(\u001b[0m\u001b[0;34m'Key matrix must be square'\u001b[0m\u001b[0;34m)\u001b[0m\u001b[0;34m\u001b[0m\u001b[0;34m\u001b[0m\u001b[0m\n\u001b[1;32m     43\u001b[0m \u001b[0;34m\u001b[0m\u001b[0m\n\u001b[0;32m---> 44\u001b[0;31m     \u001b[0mkey_inverse\u001b[0m \u001b[0;34m=\u001b[0m \u001b[0mnp\u001b[0m\u001b[0;34m.\u001b[0m\u001b[0marray\u001b[0m\u001b[0;34m(\u001b[0m\u001b[0;34m[\u001b[0m\u001b[0;34m[\u001b[0m\u001b[0mmod_inverse\u001b[0m\u001b[0;34m(\u001b[0m\u001b[0mkey\u001b[0m\u001b[0;34m[\u001b[0m\u001b[0mi\u001b[0m\u001b[0;34m]\u001b[0m\u001b[0;34m[\u001b[0m\u001b[0mj\u001b[0m\u001b[0;34m]\u001b[0m\u001b[0;34m,\u001b[0m \u001b[0;36m26\u001b[0m\u001b[0;34m)\u001b[0m \u001b[0;32mfor\u001b[0m \u001b[0mj\u001b[0m \u001b[0;32min\u001b[0m \u001b[0mrange\u001b[0m\u001b[0;34m(\u001b[0m\u001b[0mkey\u001b[0m\u001b[0;34m.\u001b[0m\u001b[0mshape\u001b[0m\u001b[0;34m[\u001b[0m\u001b[0;36m1\u001b[0m\u001b[0;34m]\u001b[0m\u001b[0;34m)\u001b[0m\u001b[0;34m]\u001b[0m \u001b[0;32mfor\u001b[0m \u001b[0mi\u001b[0m \u001b[0;32min\u001b[0m \u001b[0mrange\u001b[0m\u001b[0;34m(\u001b[0m\u001b[0mkey\u001b[0m\u001b[0;34m.\u001b[0m\u001b[0mshape\u001b[0m\u001b[0;34m[\u001b[0m\u001b[0;36m0\u001b[0m\u001b[0;34m]\u001b[0m\u001b[0;34m)\u001b[0m\u001b[0;34m]\u001b[0m\u001b[0;34m)\u001b[0m\u001b[0;34m\u001b[0m\u001b[0;34m\u001b[0m\u001b[0m\n\u001b[0m\u001b[1;32m     45\u001b[0m \u001b[0;34m\u001b[0m\u001b[0m\n\u001b[1;32m     46\u001b[0m     \u001b[0mn\u001b[0m \u001b[0;34m=\u001b[0m \u001b[0mkey\u001b[0m\u001b[0;34m.\u001b[0m\u001b[0mshape\u001b[0m\u001b[0;34m[\u001b[0m\u001b[0;36m0\u001b[0m\u001b[0;34m]\u001b[0m\u001b[0;34m\u001b[0m\u001b[0;34m\u001b[0m\u001b[0m\n",
            "\u001b[0;32m<ipython-input-4-3d361ccf9a3e>\u001b[0m in \u001b[0;36m<listcomp>\u001b[0;34m(.0)\u001b[0m\n\u001b[1;32m     42\u001b[0m         \u001b[0;32mraise\u001b[0m \u001b[0mException\u001b[0m\u001b[0;34m(\u001b[0m\u001b[0;34m'Key matrix must be square'\u001b[0m\u001b[0;34m)\u001b[0m\u001b[0;34m\u001b[0m\u001b[0;34m\u001b[0m\u001b[0m\n\u001b[1;32m     43\u001b[0m \u001b[0;34m\u001b[0m\u001b[0m\n\u001b[0;32m---> 44\u001b[0;31m     \u001b[0mkey_inverse\u001b[0m \u001b[0;34m=\u001b[0m \u001b[0mnp\u001b[0m\u001b[0;34m.\u001b[0m\u001b[0marray\u001b[0m\u001b[0;34m(\u001b[0m\u001b[0;34m[\u001b[0m\u001b[0;34m[\u001b[0m\u001b[0mmod_inverse\u001b[0m\u001b[0;34m(\u001b[0m\u001b[0mkey\u001b[0m\u001b[0;34m[\u001b[0m\u001b[0mi\u001b[0m\u001b[0;34m]\u001b[0m\u001b[0;34m[\u001b[0m\u001b[0mj\u001b[0m\u001b[0;34m]\u001b[0m\u001b[0;34m,\u001b[0m \u001b[0;36m26\u001b[0m\u001b[0;34m)\u001b[0m \u001b[0;32mfor\u001b[0m \u001b[0mj\u001b[0m \u001b[0;32min\u001b[0m \u001b[0mrange\u001b[0m\u001b[0;34m(\u001b[0m\u001b[0mkey\u001b[0m\u001b[0;34m.\u001b[0m\u001b[0mshape\u001b[0m\u001b[0;34m[\u001b[0m\u001b[0;36m1\u001b[0m\u001b[0;34m]\u001b[0m\u001b[0;34m)\u001b[0m\u001b[0;34m]\u001b[0m \u001b[0;32mfor\u001b[0m \u001b[0mi\u001b[0m \u001b[0;32min\u001b[0m \u001b[0mrange\u001b[0m\u001b[0;34m(\u001b[0m\u001b[0mkey\u001b[0m\u001b[0;34m.\u001b[0m\u001b[0mshape\u001b[0m\u001b[0;34m[\u001b[0m\u001b[0;36m0\u001b[0m\u001b[0;34m]\u001b[0m\u001b[0;34m)\u001b[0m\u001b[0;34m]\u001b[0m\u001b[0;34m)\u001b[0m\u001b[0;34m\u001b[0m\u001b[0;34m\u001b[0m\u001b[0m\n\u001b[0m\u001b[1;32m     45\u001b[0m \u001b[0;34m\u001b[0m\u001b[0m\n\u001b[1;32m     46\u001b[0m     \u001b[0mn\u001b[0m \u001b[0;34m=\u001b[0m \u001b[0mkey\u001b[0m\u001b[0;34m.\u001b[0m\u001b[0mshape\u001b[0m\u001b[0;34m[\u001b[0m\u001b[0;36m0\u001b[0m\u001b[0;34m]\u001b[0m\u001b[0;34m\u001b[0m\u001b[0;34m\u001b[0m\u001b[0m\n",
            "\u001b[0;32m<ipython-input-4-3d361ccf9a3e>\u001b[0m in \u001b[0;36mmod_inverse\u001b[0;34m(a, m)\u001b[0m\n\u001b[1;32m     11\u001b[0m     \u001b[0mg\u001b[0m\u001b[0;34m,\u001b[0m \u001b[0mx\u001b[0m\u001b[0;34m,\u001b[0m \u001b[0my\u001b[0m \u001b[0;34m=\u001b[0m \u001b[0megcd\u001b[0m\u001b[0;34m(\u001b[0m\u001b[0ma\u001b[0m\u001b[0;34m,\u001b[0m \u001b[0mm\u001b[0m\u001b[0;34m)\u001b[0m\u001b[0;34m\u001b[0m\u001b[0;34m\u001b[0m\u001b[0m\n\u001b[1;32m     12\u001b[0m     \u001b[0;32mif\u001b[0m \u001b[0mg\u001b[0m \u001b[0;34m!=\u001b[0m \u001b[0;36m1\u001b[0m\u001b[0;34m:\u001b[0m\u001b[0;34m\u001b[0m\u001b[0;34m\u001b[0m\u001b[0m\n\u001b[0;32m---> 13\u001b[0;31m         \u001b[0;32mraise\u001b[0m \u001b[0mException\u001b[0m\u001b[0;34m(\u001b[0m\u001b[0;34m'Modular inverse does not exist'\u001b[0m\u001b[0;34m)\u001b[0m\u001b[0;34m\u001b[0m\u001b[0;34m\u001b[0m\u001b[0m\n\u001b[0m\u001b[1;32m     14\u001b[0m     \u001b[0;32melse\u001b[0m\u001b[0;34m:\u001b[0m\u001b[0;34m\u001b[0m\u001b[0;34m\u001b[0m\u001b[0m\n\u001b[1;32m     15\u001b[0m         \u001b[0;32mreturn\u001b[0m \u001b[0mx\u001b[0m \u001b[0;34m%\u001b[0m \u001b[0mm\u001b[0m\u001b[0;34m\u001b[0m\u001b[0;34m\u001b[0m\u001b[0m\n",
            "\u001b[0;31mException\u001b[0m: Modular inverse does not exist"
          ]
        }
      ]
    },
    {
      "cell_type": "code",
      "source": [
        "key = input(\"Enter key : \")\n",
        "key = key.replace(\" \", \"\")\n",
        "key = key.upper()\n",
        "\n",
        "\n",
        "def matrix(x, y, initial):\n",
        "  return [[initial for i in range(x)] for j in range(y)]\n",
        "\n",
        "\n",
        "result = list()\n",
        "for c in key:  #storing key\n",
        "  if c not in result:\n",
        "    if c == 'J':\n",
        "      result.append('I')\n",
        "    else:\n",
        "      result.append(c)\n",
        "flag = 0\n",
        "for i in range(65, 91):  #storing other character\n",
        "  if chr(i) not in result:\n",
        "    if i == 73 and chr(74) not in result:\n",
        "      result.append(\"I\")\n",
        "      flag = 1\n",
        "    elif flag == 0 and i == 73 or i == 74:\n",
        "      pass\n",
        "    else:\n",
        "      result.append(chr(i))\n",
        "k = 0\n",
        "my_matrix = matrix(5, 5, 0)  #initialize matrix\n",
        "for i in range(0, 5):  #making matrix\n",
        "  for j in range(0, 5):\n",
        "    my_matrix[i][j] = result[k]\n",
        "    k += 1\n",
        "\n",
        "\n",
        "def locindex(c):  #get location of each character\n",
        "  loc = list()\n",
        "  if c == 'J':\n",
        "    c = 'I'\n",
        "  for i, j in enumerate(my_matrix):\n",
        "    for k, l in enumerate(j):\n",
        "      if c == l:\n",
        "        loc.append(i)\n",
        "        loc.append(k)\n",
        "        return loc\n",
        "\n",
        "\n",
        "def encrypt():  #Encryption\n",
        "  msg = str(input(\"ENTER MSG : \"))\n",
        "  msg = msg.upper()\n",
        "  msg = msg.replace(\" \", \"\")\n",
        "  i = 0\n",
        "  for s in range(0, len(msg) + 1, 2):\n",
        "    if s < len(msg) - 1:\n",
        "      if msg[s] == msg[s + 1]:\n",
        "        msg = msg[:s + 1] + 'X' + msg[s + 1:]\n",
        "  if len(msg) % 2 != 0:\n",
        "    msg = msg[:] + 'X'\n",
        "  print(\"CIPHER TEXT:\", end=' ')\n",
        "  while i < len(msg):\n",
        "    loc = list()\n",
        "    loc = locindex(msg[i])\n",
        "    loc1 = list()\n",
        "    loc1 = locindex(msg[i + 1])\n",
        "    if loc[1] == loc1[1]:\n",
        "      print(\"{}{}\".format(my_matrix[(loc[0] + 1) % 5][loc[1]],\n",
        "                          my_matrix[(loc1[0] + 1) % 5][loc1[1]]),\n",
        "            end=' ')\n",
        "    elif loc[0] == loc1[0]:\n",
        "      print(\"{}{}\".format(my_matrix[loc[0]][(loc[1] + 1) % 5],\n",
        "                          my_matrix[loc1[0]][(loc1[1] + 1) % 5]),\n",
        "            end=' ')\n",
        "    else:\n",
        "      print(\"{}{}\".format(my_matrix[loc[0]][loc1[1]],\n",
        "                          my_matrix[loc1[0]][loc[1]]),\n",
        "            end=' ')\n",
        "    i = i + 2\n",
        "\n",
        "\n",
        "def decrypt():  #decryption\n",
        "  msg = str(input(\"ENTER CIPHER TEXT:\"))\n",
        "  msg = msg.upper()\n",
        "  msg = msg.replace(\" \", \"\")\n",
        "  print(\"PLAIN TEXT:\", end=' ')\n",
        "  i = 0\n",
        "  while i < len(msg):\n",
        "    loc = list()\n",
        "    loc = locindex(msg[i])\n",
        "    loc1 = list()\n",
        "    loc1 = locindex(msg[i + 1])\n",
        "    if loc[1] == loc1[1]:\n",
        "      print(\"{}{}\".format(my_matrix[(loc[0] - 1) % 5][loc[1]],\n",
        "                          my_matrix[(loc1[0] - 1) % 5][loc1[1]]),\n",
        "            end=' ')\n",
        "    elif loc[0] == loc1[0]:\n",
        "      print(\"{}{}\".format(my_matrix[loc[0]][(loc[1] - 1) % 5],\n",
        "                          my_matrix[loc1[0]][(loc1[1] - 1) % 5]),\n",
        "            end=' ')\n",
        "    else:\n",
        "      print(\"{}{}\".format(my_matrix[loc[0]][loc1[1]],\n",
        "                          my_matrix[loc1[0]][loc[1]]),\n",
        "            end=' ')\n",
        "    i = i + 2\n",
        "\n",
        "\n",
        "while (1):\n",
        "  choice = int(input(\"\\n 1.Encryption \\n 2.Decryption: \\n 3.EXIT \\n Pilih : \"))\n",
        "  if choice == 1:\n",
        "    encrypt()\n",
        "  elif choice == 2:\n",
        "    decrypt()\n",
        "  elif choice == 3:\n",
        "    exit()\n",
        "  else:\n",
        "    print(\"Choose correct choice\")"
      ],
      "metadata": {
        "colab": {
          "base_uri": "https://localhost:8080/",
          "height": 529
        },
        "id": "PIZsqtxdot5L",
        "outputId": "5a05b4d7-c82b-4dc4-8520-d28050be480c"
      },
      "execution_count": 5,
      "outputs": [
        {
          "output_type": "stream",
          "name": "stdout",
          "text": [
            "Enter key : pelita\n",
            "\n",
            " 1.Encryption \n",
            " 2.Decryption: \n",
            " 3.EXIT \n",
            " Pilih : 1\n",
            "ENTER MSG : belajar kriptografi\n",
            "CIPHER TEXT: HB PC PD XR SL EP VO OC DT "
          ]
        },
        {
          "output_type": "error",
          "ename": "KeyboardInterrupt",
          "evalue": "ignored",
          "traceback": [
            "\u001b[0;31m---------------------------------------------------------------------------\u001b[0m",
            "\u001b[0;31mKeyboardInterrupt\u001b[0m                         Traceback (most recent call last)",
            "\u001b[0;32m<ipython-input-5-475fbb0d7a05>\u001b[0m in \u001b[0;36m<cell line: 105>\u001b[0;34m()\u001b[0m\n\u001b[1;32m    104\u001b[0m \u001b[0;34m\u001b[0m\u001b[0m\n\u001b[1;32m    105\u001b[0m \u001b[0;32mwhile\u001b[0m \u001b[0;34m(\u001b[0m\u001b[0;36m1\u001b[0m\u001b[0;34m)\u001b[0m\u001b[0;34m:\u001b[0m\u001b[0;34m\u001b[0m\u001b[0;34m\u001b[0m\u001b[0m\n\u001b[0;32m--> 106\u001b[0;31m   \u001b[0mchoice\u001b[0m \u001b[0;34m=\u001b[0m \u001b[0mint\u001b[0m\u001b[0;34m(\u001b[0m\u001b[0minput\u001b[0m\u001b[0;34m(\u001b[0m\u001b[0;34m\"\\n 1.Encryption \\n 2.Decryption: \\n 3.EXIT \\n Pilih : \"\u001b[0m\u001b[0;34m)\u001b[0m\u001b[0;34m)\u001b[0m\u001b[0;34m\u001b[0m\u001b[0;34m\u001b[0m\u001b[0m\n\u001b[0m\u001b[1;32m    107\u001b[0m   \u001b[0;32mif\u001b[0m \u001b[0mchoice\u001b[0m \u001b[0;34m==\u001b[0m \u001b[0;36m1\u001b[0m\u001b[0;34m:\u001b[0m\u001b[0;34m\u001b[0m\u001b[0;34m\u001b[0m\u001b[0m\n\u001b[1;32m    108\u001b[0m     \u001b[0mencrypt\u001b[0m\u001b[0;34m(\u001b[0m\u001b[0;34m)\u001b[0m\u001b[0;34m\u001b[0m\u001b[0;34m\u001b[0m\u001b[0m\n",
            "\u001b[0;32m/usr/local/lib/python3.10/dist-packages/ipykernel/kernelbase.py\u001b[0m in \u001b[0;36mraw_input\u001b[0;34m(self, prompt)\u001b[0m\n\u001b[1;32m    849\u001b[0m                 \u001b[0;34m\"raw_input was called, but this frontend does not support input requests.\"\u001b[0m\u001b[0;34m\u001b[0m\u001b[0;34m\u001b[0m\u001b[0m\n\u001b[1;32m    850\u001b[0m             )\n\u001b[0;32m--> 851\u001b[0;31m         return self._input_request(str(prompt),\n\u001b[0m\u001b[1;32m    852\u001b[0m             \u001b[0mself\u001b[0m\u001b[0;34m.\u001b[0m\u001b[0m_parent_ident\u001b[0m\u001b[0;34m,\u001b[0m\u001b[0;34m\u001b[0m\u001b[0;34m\u001b[0m\u001b[0m\n\u001b[1;32m    853\u001b[0m             \u001b[0mself\u001b[0m\u001b[0;34m.\u001b[0m\u001b[0m_parent_header\u001b[0m\u001b[0;34m,\u001b[0m\u001b[0;34m\u001b[0m\u001b[0;34m\u001b[0m\u001b[0m\n",
            "\u001b[0;32m/usr/local/lib/python3.10/dist-packages/ipykernel/kernelbase.py\u001b[0m in \u001b[0;36m_input_request\u001b[0;34m(self, prompt, ident, parent, password)\u001b[0m\n\u001b[1;32m    893\u001b[0m             \u001b[0;32mexcept\u001b[0m \u001b[0mKeyboardInterrupt\u001b[0m\u001b[0;34m:\u001b[0m\u001b[0;34m\u001b[0m\u001b[0;34m\u001b[0m\u001b[0m\n\u001b[1;32m    894\u001b[0m                 \u001b[0;31m# re-raise KeyboardInterrupt, to truncate traceback\u001b[0m\u001b[0;34m\u001b[0m\u001b[0;34m\u001b[0m\u001b[0m\n\u001b[0;32m--> 895\u001b[0;31m                 \u001b[0;32mraise\u001b[0m \u001b[0mKeyboardInterrupt\u001b[0m\u001b[0;34m(\u001b[0m\u001b[0;34m\"Interrupted by user\"\u001b[0m\u001b[0;34m)\u001b[0m \u001b[0;32mfrom\u001b[0m \u001b[0;32mNone\u001b[0m\u001b[0;34m\u001b[0m\u001b[0;34m\u001b[0m\u001b[0m\n\u001b[0m\u001b[1;32m    896\u001b[0m             \u001b[0;32mexcept\u001b[0m \u001b[0mException\u001b[0m \u001b[0;32mas\u001b[0m \u001b[0me\u001b[0m\u001b[0;34m:\u001b[0m\u001b[0;34m\u001b[0m\u001b[0;34m\u001b[0m\u001b[0m\n\u001b[1;32m    897\u001b[0m                 \u001b[0mself\u001b[0m\u001b[0;34m.\u001b[0m\u001b[0mlog\u001b[0m\u001b[0;34m.\u001b[0m\u001b[0mwarning\u001b[0m\u001b[0;34m(\u001b[0m\u001b[0;34m\"Invalid Message:\"\u001b[0m\u001b[0;34m,\u001b[0m \u001b[0mexc_info\u001b[0m\u001b[0;34m=\u001b[0m\u001b[0;32mTrue\u001b[0m\u001b[0;34m)\u001b[0m\u001b[0;34m\u001b[0m\u001b[0;34m\u001b[0m\u001b[0m\n",
            "\u001b[0;31mKeyboardInterrupt\u001b[0m: Interrupted by user"
          ]
        }
      ]
    },
    {
      "cell_type": "code",
      "source": [
        "def encrypt_polyalphabetic(plain_text, key):\n",
        "    # Mengonversi teks dan kunci ke huruf besar\n",
        "    plain_text = plain_text.upper()\n",
        "    key = key.upper()\n",
        "\n",
        "    # Membuat kunci yang panjangnya sama dengan panjang plaintext\n",
        "    key_repeated = (key * (len(plain_text) // len(key) + 1))[:len(plain_text)]\n",
        "\n",
        "    # Menginisialisasi variabel untuk menyimpan hasil cipher\n",
        "    cipher_text = ''\n",
        "\n",
        "    # Melakukan enkripsi karakter demi karakter\n",
        "    for i in range(len(plain_text)):\n",
        "        if plain_text[i].isalpha():\n",
        "            # Menghitung indeks karakter cipher\n",
        "            cipher_char = chr(((ord(plain_text[i]) + ord(key_repeated[i])) % 26) + ord('A'))\n",
        "            cipher_text += cipher_char\n",
        "        else:\n",
        "            # Menambahkan karakter non-alphabet tanpa melakukan enkripsi\n",
        "            cipher_text += plain_text[i]\n",
        "\n",
        "    return cipher_text\n",
        "\n",
        "def decrypt_polyalphabetic(cipher_text, key):\n",
        "    # Mengonversi teks dan kunci ke huruf besar\n",
        "    cipher_text = cipher_text.upper()\n",
        "    key = key.upper()\n",
        "\n",
        "    # Membuat kunci yang panjangnya sama dengan panjang ciphertext\n",
        "    key_repeated = (key * (len(cipher_text) // len(key) + 1))[:len(cipher_text)]\n",
        "\n",
        "    # Menginisialisasi variabel untuk menyimpan hasil dekripsi\n",
        "    decrypted_text = ''\n",
        "\n",
        "    # Melakukan dekripsi karakter demi karakter\n",
        "    for i in range(len(cipher_text)):\n",
        "        if cipher_text[i].isalpha():\n",
        "            # Menghitung indeks karakter plaintext\n",
        "            decrypted_char = chr(((ord(cipher_text[i]) - ord(key_repeated[i])) % 26) + ord('A'))\n",
        "            decrypted_text += decrypted_char\n",
        "        else:\n",
        "            # Menambahkan karakter non-alphabet tanpa melakukan dekripsi\n",
        "            decrypted_text += cipher_text[i]\n",
        "\n",
        "    return decrypted_text\n",
        "\n",
        "# Contoh penggunaan:\n",
        "plain_text = \"diajeng\"\n",
        "key = \"triana\"\n",
        "\n",
        "cipher_text = encrypt_polyalphabetic(plain_text, key)\n",
        "print(f\"Plaintext: {plain_text}\")\n",
        "print(f\"Key: {key}\")\n",
        "print(f\"Ciphertext: {cipher_text}\")\n",
        "\n",
        "decrypted_text = decrypt_polyalphabetic(cipher_text, key)\n",
        "print(f\"Decrypted text: {decrypted_text}\")\n"
      ],
      "metadata": {
        "colab": {
          "base_uri": "https://localhost:8080/"
        },
        "id": "d1N3iJ1vpSE4",
        "outputId": "44038467-dd97-4957-d58a-c69e29c66aae"
      },
      "execution_count": 1,
      "outputs": [
        {
          "output_type": "stream",
          "name": "stdout",
          "text": [
            "Plaintext: diajeng\n",
            "Key: triana\n",
            "Ciphertext: WZIJRNZ\n",
            "Decrypted text: DIAJENG\n"
          ]
        }
      ]
    },
    {
      "cell_type": "code",
      "source": [
        "def vigenere_encrypt(plaintext, key):\n",
        "    plaintext = plaintext.upper()\n",
        "    key = key.upper()\n",
        "    ciphertext = ''\n",
        "\n",
        "    for i in range(len(plaintext)):\n",
        "        if plaintext[i] == ' ':\n",
        "            # Jika karakter adalah spasi, biarkan tetap spasi\n",
        "            ciphertext += ' '\n",
        "        else:\n",
        "            # Menggunakan rumus Vigenere Cipher untuk mengenkripsi karakter\n",
        "            char = chr((ord(plaintext[i]) + ord(key[i % len(key)]) - 2 * ord('A')) % 26 + ord('A'))\n",
        "            ciphertext += char\n",
        "\n",
        "    return ciphertext\n",
        "\n",
        "\n",
        "def vigenere_decrypt(ciphertext, key):\n",
        "    ciphertext = ciphertext.upper()\n",
        "    key = key.upper()\n",
        "    plaintext = ''\n",
        "\n",
        "    for i in range(len(ciphertext)):\n",
        "        if ciphertext[i] == ' ':\n",
        "            # Jika karakter adalah spasi, biarkan tetap spasi\n",
        "            plaintext += ' '\n",
        "        else:\n",
        "            # Menggunakan rumus Vigenere Cipher untuk mendekripsi karakter\n",
        "            char = chr((ord(ciphertext[i]) - ord(key[i % len(key)])) % 26 + ord('A'))\n",
        "            plaintext += char\n",
        "\n",
        "    return plaintext\n",
        "\n",
        "\n",
        "def main():\n",
        "    plaintext = input(\"Masukkan plaintext: \")\n",
        "    key = input(\"Masukkan kunci: \")\n",
        "\n",
        "    ciphertext = vigenere_encrypt(plaintext, key)\n",
        "    print(f\"Ciphertext: {ciphertext}\")\n",
        "\n",
        "    decrypted_text = vigenere_decrypt(ciphertext, key)\n",
        "    print(f\"Plaintext setelah didekripsi: {decrypted_text}\")\n",
        "\n",
        "\n",
        "if __name__ == \"__main__\":\n",
        "    main()\n"
      ],
      "metadata": {
        "colab": {
          "base_uri": "https://localhost:8080/"
        },
        "id": "tIdLNKwXp4d_",
        "outputId": "329efd97-4b87-443a-f4f2-012b7d344dd0"
      },
      "execution_count": 3,
      "outputs": [
        {
          "output_type": "stream",
          "name": "stdout",
          "text": [
            "Masukkan plaintext: pelita bangsa\n",
            "Masukkan kunci: kampus merdeka\n",
            "Ciphertext: ZEXXNS NEEJWK\n",
            "Plaintext setelah didekripsi: PELITA BANGSA\n"
          ]
        }
      ]
    },
    {
      "cell_type": "code",
      "source": [
        "def caesar_cipher(plain_text, shift):\n",
        "    cipher_text = \"\"\n",
        "    for char in plain_text:\n",
        "        if char.isalpha():\n",
        "            base = ord('A') if char.isupper() else ord('a')\n",
        "            cipher_text += chr((ord(char) - base + shift) % 26 + base)\n",
        "        else:\n",
        "            cipher_text += char\n",
        "    return cipher_text\n",
        "\n",
        "# Contoh penggunaan:\n",
        "plain_text_caesar = \"bangsa\"\n",
        "shift_caesar = 8\n",
        "cipher_text_caesar = caesar_cipher(plain_text_caesar, shift_caesar)\n",
        "print(f\"Plaintext: {plain_text_caesar}\")\n",
        "print(f\"Ciphertext (Caesar Cipher): {cipher_text_caesar}\")\n"
      ],
      "metadata": {
        "colab": {
          "base_uri": "https://localhost:8080/"
        },
        "id": "LP3sbFN7mh_Z",
        "outputId": "be83c82f-66e5-4045-ec41-25ea7632daba"
      },
      "execution_count": 2,
      "outputs": [
        {
          "output_type": "stream",
          "name": "stdout",
          "text": [
            "Plaintext: bangsa\n",
            "Ciphertext (Caesar Cipher): jivoai\n"
          ]
        }
      ]
    }
  ]
}